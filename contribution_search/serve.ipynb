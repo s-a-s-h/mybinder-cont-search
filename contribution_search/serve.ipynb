{
 "cells": [
  {
   "cell_type": "code",
   "execution_count": null,
   "metadata": {},
   "outputs": [],
   "source": [
    "from app import App\n",
    "App().servable()"
   ]
  }
 ],
 "metadata": {
  "kernelspec": {
   "display_name": "Python 3.10.5 ('contribution_search')",
   "language": "python",
   "name": "python3"
  },
  "language_info": {
   "name": "python",
   "version": "3.10.5"
  },
  "orig_nbformat": 4,
  "vscode": {
   "interpreter": {
    "hash": "02e609a1566410ad8f66c7e8a0b997391807e1aee7f530de629ff59a9b47464d"
   }
  }
 },
 "nbformat": 4,
 "nbformat_minor": 2
}
